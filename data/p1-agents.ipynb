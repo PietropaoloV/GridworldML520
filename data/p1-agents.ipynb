{
 "cells": [
  {
   "cell_type": "code",
   "execution_count": 6,
   "id": "0ba6dd0e",
   "metadata": {},
   "outputs": [],
   "source": [
    "import os\n",
    "from os import path\n",
    "import numpy as np\n",
    "import tensorflow as tf\n",
    "from tensorflow.keras.models import save_model"
   ]
  },
  {
   "cell_type": "code",
   "execution_count": 2,
   "id": "56d91101",
   "metadata": {},
   "outputs": [
    {
     "data": {
      "text/plain": [
       "'2.5.0'"
      ]
     },
     "execution_count": 2,
     "metadata": {},
     "output_type": "execute_result"
    }
   ],
   "source": [
    "tf.version.VERSION"
   ]
  },
  {
   "cell_type": "code",
   "execution_count": 7,
   "id": "cba65fd6",
   "metadata": {},
   "outputs": [],
   "source": [
    "input_file = path.join('project1', 'p1-all-inputs.npy')\n",
    "output_file = path.join('project1', 'p1-all-outputs.npy')"
   ]
  },
  {
   "cell_type": "code",
   "execution_count": 8,
   "id": "a49a3262",
   "metadata": {},
   "outputs": [],
   "source": [
    "# input and output data\n",
    "train_in = np.load(input_file)\n",
    "train_out = tf.keras.utils.to_categorical(np.load(output_file), 4)"
   ]
  },
  {
   "cell_type": "code",
   "execution_count": 9,
   "id": "b8306997",
   "metadata": {},
   "outputs": [
    {
     "name": "stdout",
     "output_type": "stream",
     "text": [
      "(659456, 11, 11)\n",
      "(659456, 4)\n"
     ]
    }
   ],
   "source": [
    "print(train_in.shape)\n",
    "print(train_out.shape)"
   ]
  },
  {
   "cell_type": "code",
   "execution_count": 10,
   "id": "21111b1e",
   "metadata": {},
   "outputs": [],
   "source": [
    "# construct NN\n",
    "grid_in = tf.keras.layers.Input(shape=(11, 11), name='grid')\n",
    "flatten = tf.keras.layers.Flatten()(grid_in)\n",
    "dropout_1 = tf.keras.layers.Dropout(rate=0.5)(flatten)\n",
    "dense_1 = tf.keras.layers.Dense(units=10, activation=tf.nn.relu)(dropout_1)\n",
    "# dense_2 = tf.keras.layers.Dense(units = 500, activation = tf.nn.relu)(dense_1)\n",
    "logits = tf.keras.layers.Dense(units = 4, activation = tf.nn.relu)(dense_1)\n",
    "prob = tf.keras.layers.Softmax()(logits)\n",
    "\n",
    "model = tf.keras.Model(inputs=grid_in, outputs=prob)\n",
    "model.compile(optimizer = 'adam',\n",
    "              loss = 'categorical_crossentropy',\n",
    "              metrics = ['accuracy'])\n",
    "# tf.keras.utils.plot_model(model)"
   ]
  },
  {
   "cell_type": "code",
   "execution_count": 13,
   "id": "eee269db",
   "metadata": {},
   "outputs": [
    {
     "name": "stdout",
     "output_type": "stream",
     "text": [
      "Epoch 1/30\n",
      "264/264 [==============================] - 4s 14ms/step - loss: 0.5440 - accuracy: 0.8166 - val_loss: 0.2811 - val_accuracy: 0.9310\n",
      "Epoch 2/30\n",
      "264/264 [==============================] - 3s 13ms/step - loss: 0.5432 - accuracy: 0.8172 - val_loss: 0.2829 - val_accuracy: 0.9309\n",
      "Epoch 3/30\n",
      "264/264 [==============================] - 4s 14ms/step - loss: 0.5438 - accuracy: 0.8169 - val_loss: 0.2804 - val_accuracy: 0.9258\n",
      "Epoch 4/30\n",
      "264/264 [==============================] - 3s 13ms/step - loss: 0.5427 - accuracy: 0.8171 - val_loss: 0.2809 - val_accuracy: 0.9256\n",
      "Epoch 5/30\n",
      "264/264 [==============================] - 4s 15ms/step - loss: 0.5427 - accuracy: 0.8173 - val_loss: 0.2804 - val_accuracy: 0.9315\n",
      "Epoch 6/30\n",
      "264/264 [==============================] - 3s 13ms/step - loss: 0.5412 - accuracy: 0.8180 - val_loss: 0.2751 - val_accuracy: 0.9303\n",
      "Epoch 7/30\n",
      "264/264 [==============================] - 4s 14ms/step - loss: 0.5417 - accuracy: 0.8179 - val_loss: 0.2725 - val_accuracy: 0.9332\n",
      "Epoch 8/30\n",
      "264/264 [==============================] - 4s 15ms/step - loss: 0.5392 - accuracy: 0.8184 - val_loss: 0.2705 - val_accuracy: 0.9328\n",
      "Epoch 9/30\n",
      "264/264 [==============================] - 4s 14ms/step - loss: 0.5392 - accuracy: 0.8185 - val_loss: 0.2714 - val_accuracy: 0.9299\n",
      "Epoch 10/30\n",
      "264/264 [==============================] - 4s 14ms/step - loss: 0.5388 - accuracy: 0.8183 - val_loss: 0.2681 - val_accuracy: 0.9326\n",
      "Epoch 11/30\n",
      "264/264 [==============================] - 4s 13ms/step - loss: 0.5383 - accuracy: 0.8189 - val_loss: 0.2730 - val_accuracy: 0.9311\n",
      "Epoch 12/30\n",
      "264/264 [==============================] - 4s 15ms/step - loss: 0.5373 - accuracy: 0.8192 - val_loss: 0.2680 - val_accuracy: 0.9327\n",
      "Epoch 13/30\n",
      "264/264 [==============================] - 2s 9ms/step - loss: 0.5378 - accuracy: 0.8189 - val_loss: 0.2669 - val_accuracy: 0.9337\n",
      "Epoch 14/30\n",
      "264/264 [==============================] - 2s 9ms/step - loss: 0.5381 - accuracy: 0.8193 - val_loss: 0.2614 - val_accuracy: 0.9339\n",
      "Epoch 15/30\n",
      "264/264 [==============================] - 2s 8ms/step - loss: 0.5387 - accuracy: 0.8189 - val_loss: 0.2676 - val_accuracy: 0.9354\n",
      "Epoch 16/30\n",
      "264/264 [==============================] - 2s 9ms/step - loss: 0.5382 - accuracy: 0.8194 - val_loss: 0.2651 - val_accuracy: 0.9336\n",
      "Epoch 17/30\n",
      "264/264 [==============================] - 2s 9ms/step - loss: 0.5388 - accuracy: 0.8190 - val_loss: 0.2694 - val_accuracy: 0.9315\n",
      "Epoch 18/30\n",
      "264/264 [==============================] - 6s 25ms/step - loss: 0.5367 - accuracy: 0.8192 - val_loss: 0.2616 - val_accuracy: 0.9341\n",
      "Epoch 19/30\n",
      "264/264 [==============================] - 6s 24ms/step - loss: 0.5370 - accuracy: 0.8196 - val_loss: 0.2625 - val_accuracy: 0.9359\n",
      "Epoch 20/30\n",
      "264/264 [==============================] - 5s 19ms/step - loss: 0.5377 - accuracy: 0.8196 - val_loss: 0.2584 - val_accuracy: 0.9388\n",
      "Epoch 21/30\n",
      "264/264 [==============================] - 7s 27ms/step - loss: 0.5363 - accuracy: 0.8202 - val_loss: 0.2586 - val_accuracy: 0.9376\n",
      "Epoch 22/30\n",
      "264/264 [==============================] - 7s 28ms/step - loss: 0.5370 - accuracy: 0.8197 - val_loss: 0.2591 - val_accuracy: 0.9365\n",
      "Epoch 23/30\n",
      "264/264 [==============================] - 7s 28ms/step - loss: 0.5363 - accuracy: 0.8197 - val_loss: 0.2604 - val_accuracy: 0.9367\n",
      "Epoch 24/30\n",
      "264/264 [==============================] - 6s 24ms/step - loss: 0.5369 - accuracy: 0.8193 - val_loss: 0.2578 - val_accuracy: 0.9348\n",
      "Epoch 25/30\n",
      "264/264 [==============================] - 7s 27ms/step - loss: 0.5370 - accuracy: 0.8197 - val_loss: 0.2588 - val_accuracy: 0.9393\n",
      "Epoch 26/30\n",
      "264/264 [==============================] - 7s 26ms/step - loss: 0.5360 - accuracy: 0.8203 - val_loss: 0.2592 - val_accuracy: 0.9392\n",
      "Epoch 27/30\n",
      "264/264 [==============================] - 7s 26ms/step - loss: 0.5368 - accuracy: 0.8196 - val_loss: 0.2567 - val_accuracy: 0.9396\n",
      "Epoch 28/30\n",
      "264/264 [==============================] - 7s 28ms/step - loss: 0.5357 - accuracy: 0.8203 - val_loss: 0.2573 - val_accuracy: 0.9404\n",
      "Epoch 29/30\n",
      "264/264 [==============================] - 7s 28ms/step - loss: 0.5362 - accuracy: 0.8200 - val_loss: 0.2595 - val_accuracy: 0.9359\n",
      "Epoch 30/30\n",
      "264/264 [==============================] - 6s 24ms/step - loss: 0.5340 - accuracy: 0.8207 - val_loss: 0.2555 - val_accuracy: 0.9412\n"
     ]
    }
   ],
   "source": [
    "# training\n",
    "history = model.fit(train_in, train_out,\n",
    "                    epochs=30,\n",
    "                    batch_size=2000,\n",
    "                    validation_split=0.2)"
   ]
  },
  {
   "cell_type": "code",
   "execution_count": 14,
   "id": "14dc9cbc",
   "metadata": {},
   "outputs": [
    {
     "name": "stdout",
     "output_type": "stream",
     "text": [
      "INFO:tensorflow:Assets written to: models/assets\n"
     ]
    }
   ],
   "source": [
    "save_model(model=model, filepath='models')"
   ]
  },
  {
   "cell_type": "code",
   "execution_count": null,
   "id": "c1f6a361",
   "metadata": {},
   "outputs": [],
   "source": []
  }
 ],
 "metadata": {
  "kernelspec": {
   "display_name": "Python 3",
   "language": "python",
   "name": "python3"
  },
  "language_info": {
   "codemirror_mode": {
    "name": "ipython",
    "version": 3
   },
   "file_extension": ".py",
   "mimetype": "text/x-python",
   "name": "python",
   "nbconvert_exporter": "python",
   "pygments_lexer": "ipython3",
   "version": "3.8.10"
  }
 },
 "nbformat": 4,
 "nbformat_minor": 5
}
