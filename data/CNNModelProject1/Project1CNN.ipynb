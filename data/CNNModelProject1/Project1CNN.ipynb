{
  "cells": [
    {
      "cell_type": "code",
      "execution_count": 10,
      "metadata": {
        "id": "-3PaMooakMc-",
        "colab": {
          "base_uri": "https://localhost:8080/"
        },
        "outputId": "07a450cb-2cf3-4702-e8f6-7a5e3de6a4c7"
      },
      "outputs": [
        {
          "output_type": "stream",
          "name": "stdout",
          "text": [
            "[PhysicalDevice(name='/physical_device:GPU:0', device_type='GPU')]\n",
            "Epoch 1/20\n",
            "8385/8386 [============================>.] - ETA: 0s - loss: 0.0899 - accuracy: 0.9671\n",
            "Epoch 00001: saving model to /content/drive/MyDrive/520/Project1/ck.ckpt\n",
            "8386/8386 [==============================] - 50s 6ms/step - loss: 0.0899 - accuracy: 0.9671 - val_loss: 0.0279 - val_accuracy: 0.9896\n",
            "Epoch 2/20\n",
            "8380/8386 [============================>.] - ETA: 0s - loss: 0.0376 - accuracy: 0.9860\n",
            "Epoch 00002: saving model to /content/drive/MyDrive/520/Project1/ck.ckpt\n",
            "8386/8386 [==============================] - 49s 6ms/step - loss: 0.0376 - accuracy: 0.9860 - val_loss: 0.0225 - val_accuracy: 0.9916\n",
            "Epoch 3/20\n",
            "8380/8386 [============================>.] - ETA: 0s - loss: 0.0305 - accuracy: 0.9890\n",
            "Epoch 00003: saving model to /content/drive/MyDrive/520/Project1/ck.ckpt\n",
            "8386/8386 [==============================] - 54s 6ms/step - loss: 0.0305 - accuracy: 0.9890 - val_loss: 0.0192 - val_accuracy: 0.9928\n",
            "Epoch 4/20\n",
            "8385/8386 [============================>.] - ETA: 0s - loss: 0.0272 - accuracy: 0.9901\n",
            "Epoch 00004: saving model to /content/drive/MyDrive/520/Project1/ck.ckpt\n",
            "8386/8386 [==============================] - 50s 6ms/step - loss: 0.0272 - accuracy: 0.9901 - val_loss: 0.0171 - val_accuracy: 0.9941\n",
            "Epoch 5/20\n",
            "8379/8386 [============================>.] - ETA: 0s - loss: 0.0246 - accuracy: 0.9912\n",
            "Epoch 00005: saving model to /content/drive/MyDrive/520/Project1/ck.ckpt\n",
            "8386/8386 [==============================] - 49s 6ms/step - loss: 0.0246 - accuracy: 0.9912 - val_loss: 0.0165 - val_accuracy: 0.9940\n",
            "Epoch 6/20\n",
            "8380/8386 [============================>.] - ETA: 0s - loss: 0.0233 - accuracy: 0.9918\n",
            "Epoch 00006: saving model to /content/drive/MyDrive/520/Project1/ck.ckpt\n",
            "8386/8386 [==============================] - 53s 6ms/step - loss: 0.0233 - accuracy: 0.9918 - val_loss: 0.0162 - val_accuracy: 0.9942\n",
            "Epoch 7/20\n",
            "8378/8386 [============================>.] - ETA: 0s - loss: 0.0217 - accuracy: 0.9921\n",
            "Epoch 00007: saving model to /content/drive/MyDrive/520/Project1/ck.ckpt\n",
            "8386/8386 [==============================] - 49s 6ms/step - loss: 0.0217 - accuracy: 0.9921 - val_loss: 0.0164 - val_accuracy: 0.9940\n",
            "Epoch 8/20\n",
            "8383/8386 [============================>.] - ETA: 0s - loss: 0.0211 - accuracy: 0.9925\n",
            "Epoch 00008: saving model to /content/drive/MyDrive/520/Project1/ck.ckpt\n",
            "8386/8386 [==============================] - 49s 6ms/step - loss: 0.0211 - accuracy: 0.9925 - val_loss: 0.0154 - val_accuracy: 0.9946\n",
            "Epoch 9/20\n",
            "8384/8386 [============================>.] - ETA: 0s - loss: 0.0202 - accuracy: 0.9928\n",
            "Epoch 00009: saving model to /content/drive/MyDrive/520/Project1/ck.ckpt\n",
            "8386/8386 [==============================] - 49s 6ms/step - loss: 0.0202 - accuracy: 0.9928 - val_loss: 0.0144 - val_accuracy: 0.9948\n",
            "Epoch 10/20\n",
            "8384/8386 [============================>.] - ETA: 0s - loss: 0.0191 - accuracy: 0.9930\n",
            "Epoch 00010: saving model to /content/drive/MyDrive/520/Project1/ck.ckpt\n",
            "8386/8386 [==============================] - 53s 6ms/step - loss: 0.0191 - accuracy: 0.9930 - val_loss: 0.0142 - val_accuracy: 0.9949\n",
            "Epoch 11/20\n",
            "8379/8386 [============================>.] - ETA: 0s - loss: 0.0189 - accuracy: 0.9933\n",
            "Epoch 00011: saving model to /content/drive/MyDrive/520/Project1/ck.ckpt\n",
            "8386/8386 [==============================] - 50s 6ms/step - loss: 0.0189 - accuracy: 0.9933 - val_loss: 0.0152 - val_accuracy: 0.9945\n",
            "Epoch 12/20\n",
            "8381/8386 [============================>.] - ETA: 0s - loss: 0.0181 - accuracy: 0.9936\n",
            "Epoch 00012: saving model to /content/drive/MyDrive/520/Project1/ck.ckpt\n",
            "8386/8386 [==============================] - 54s 6ms/step - loss: 0.0181 - accuracy: 0.9936 - val_loss: 0.0134 - val_accuracy: 0.9951\n",
            "Epoch 13/20\n",
            "8385/8386 [============================>.] - ETA: 0s - loss: 0.0179 - accuracy: 0.9936\n",
            "Epoch 00013: saving model to /content/drive/MyDrive/520/Project1/ck.ckpt\n",
            "8386/8386 [==============================] - 53s 6ms/step - loss: 0.0179 - accuracy: 0.9936 - val_loss: 0.0134 - val_accuracy: 0.9952\n",
            "Epoch 14/20\n",
            "8385/8386 [============================>.] - ETA: 0s - loss: 0.0170 - accuracy: 0.9940\n",
            "Epoch 00014: saving model to /content/drive/MyDrive/520/Project1/ck.ckpt\n",
            "8386/8386 [==============================] - 49s 6ms/step - loss: 0.0170 - accuracy: 0.9940 - val_loss: 0.0135 - val_accuracy: 0.9951\n",
            "Epoch 15/20\n",
            "8385/8386 [============================>.] - ETA: 0s - loss: 0.0172 - accuracy: 0.9939\n",
            "Epoch 00015: saving model to /content/drive/MyDrive/520/Project1/ck.ckpt\n",
            "8386/8386 [==============================] - 50s 6ms/step - loss: 0.0172 - accuracy: 0.9939 - val_loss: 0.0140 - val_accuracy: 0.9952\n",
            "Epoch 16/20\n",
            "8382/8386 [============================>.] - ETA: 0s - loss: 0.0169 - accuracy: 0.9940\n",
            "Epoch 00016: saving model to /content/drive/MyDrive/520/Project1/ck.ckpt\n",
            "8386/8386 [==============================] - 49s 6ms/step - loss: 0.0169 - accuracy: 0.9940 - val_loss: 0.0124 - val_accuracy: 0.9956\n",
            "Epoch 17/20\n",
            "8379/8386 [============================>.] - ETA: 0s - loss: 0.0162 - accuracy: 0.9943\n",
            "Epoch 00017: saving model to /content/drive/MyDrive/520/Project1/ck.ckpt\n",
            "8386/8386 [==============================] - 54s 6ms/step - loss: 0.0163 - accuracy: 0.9943 - val_loss: 0.0134 - val_accuracy: 0.9950\n",
            "Epoch 18/20\n",
            "8379/8386 [============================>.] - ETA: 0s - loss: 0.0161 - accuracy: 0.9943\n",
            "Epoch 00018: saving model to /content/drive/MyDrive/520/Project1/ck.ckpt\n",
            "8386/8386 [==============================] - 50s 6ms/step - loss: 0.0161 - accuracy: 0.9943 - val_loss: 0.0128 - val_accuracy: 0.9956\n",
            "Epoch 19/20\n",
            "8384/8386 [============================>.] - ETA: 0s - loss: 0.0159 - accuracy: 0.9945\n",
            "Epoch 00019: saving model to /content/drive/MyDrive/520/Project1/ck.ckpt\n",
            "8386/8386 [==============================] - 50s 6ms/step - loss: 0.0159 - accuracy: 0.9945 - val_loss: 0.0125 - val_accuracy: 0.9955\n",
            "Epoch 20/20\n",
            "8385/8386 [============================>.] - ETA: 0s - loss: 0.0155 - accuracy: 0.9945\n",
            "Epoch 00020: saving model to /content/drive/MyDrive/520/Project1/ck.ckpt\n",
            "8386/8386 [==============================] - 49s 6ms/step - loss: 0.0155 - accuracy: 0.9945 - val_loss: 0.0125 - val_accuracy: 0.9955\n",
            "INFO:tensorflow:Assets written to: /content/drive/MyDrive/520/Project1/CNNModel/assets\n"
          ]
        }
      ],
      "source": [
        "import tensorflow as tf\n",
        "import numpy as np\n",
        "import os\n",
        "\n",
        "print(tf.config.list_physical_devices('GPU'))\n",
        "checkpoint_path = \"/content/drive/MyDrive/520/Project1/ck.ckpt\"\n",
        "checkpoint_dir = os.path.dirname(checkpoint_path)\n",
        "EPOCHS_DEFAULT = 20\n",
        "\n",
        "def generate_confusion_matrix( data, labels ):\n",
        "    mat = [ [ 0 for i in range(4) ] for j in range(4) ]\n",
        "    \n",
        "    predictions = np.argmax( model.predict( data ), axis = 1 )\n",
        "    \n",
        "    for i in range( data.shape[0] ):\n",
        "        mat[ labels[i] ][ predictions[i] ] += 1\n",
        "    \n",
        "    for i in range(4):\n",
        "        print( \"\\t\".join( [ str(c) for c in mat[i] ] ) )\n",
        "\n",
        "def getTrainingData():\n",
        "\ttrainData = np.load(\"/content/drive/MyDrive/520/pruned_data/p1-all-inputs.npy\") \n",
        "\ttrainDataLabels = np.load(\"/content/drive/MyDrive/520/pruned_data/p1-all-outputs.npy\")\n",
        "\ttrain_in = np.reshape(trainData, (-1, 11, 11, 1) )\n",
        "\ttrain_out = tf.keras.utils.to_categorical(trainDataLabels, 4)\n",
        "\treturn (train_in, train_out)\n",
        "\n",
        "\n",
        "\n",
        "def buildModel():\n",
        "\tglobal EPOCHS_DEFAULT\n",
        "\tgridInput = tf.keras.layers.Input( shape = (11,11, 1) )\n",
        "\tcnn_1 = tf.keras.layers.Conv2D( filters = 50, kernel_size = (3,3), strides = (1,1),\n",
        "                               padding = \"valid\", activation = tf.nn.relu )( gridInput )\n",
        "\tflatten_image = tf.keras.layers.Flatten()( cnn_1 )\n",
        "\tdropout_1 = tf.keras.layers.Dropout( rate = 0.7 )( flatten_image )\n",
        "\tdense_1 = tf.keras.layers.Dense( units = 50, activation = tf.nn.relu )( dropout_1 )\n",
        "\tdense_2 = tf.keras.layers.Dense( units = 10, activation = tf.nn.relu )( dense_1 )\n",
        "\tlogits = tf.keras.layers.Dense( units = 4, activation = None )( dense_2 )\n",
        "\tprobabilities = tf.keras.layers.Softmax()( logits )\n",
        "\n",
        "\tmodel = tf.keras.Model( inputs = gridInput, outputs = probabilities)\n",
        "\tmodel.compile( optimizer = 'adam', loss = 'categorical_crossentropy', metrics = ['accuracy'] )\n",
        "\tlatest = tf.train.latest_checkpoint(checkpoint_dir)\n",
        "\tif(latest == None):\n",
        "\t\treturn model\n",
        "\t\n",
        "\tmodel.load_weights(latest)\n",
        "\tEPOCHS_DEFAULT = 10\n",
        "\treturn model\n",
        "\n",
        "cp_callback = tf.keras.callbacks.ModelCheckpoint(filepath=checkpoint_path,\n",
        "                                                 save_weights_only=True,\n",
        "                                                 verbose=1)\n",
        "x,y = getTrainingData()\n",
        "\n",
        "model = buildModel()\n",
        "history = model.fit(x , y, epochs = EPOCHS_DEFAULT,\n",
        "          callbacks=[cp_callback], batch_size = 64,validation_split=0.2)\n",
        "model.save('/content/drive/MyDrive/520/Project1/CNNModel')\n",
        "\n",
        "\n",
        "\n",
        "\n"
      ]
    },
    {
      "cell_type": "code",
      "source": [
        ""
      ],
      "metadata": {
        "id": "LvSNcf6XJQfM",
        "colab": {
          "base_uri": "https://localhost:8080/",
          "height": 606
        },
        "outputId": "2ddfe562-b72e-4dff-9ec7-5b6eb92cf839"
      },
      "execution_count": 8,
      "outputs": [
        {
          "output_type": "error",
          "ename": "ValueError",
          "evalue": "ignored",
          "traceback": [
            "\u001b[0;31m---------------------------------------------------------------------------\u001b[0m",
            "\u001b[0;31mValueError\u001b[0m                                Traceback (most recent call last)",
            "\u001b[0;32m<ipython-input-8-57897a88ad56>\u001b[0m in \u001b[0;36m<module>\u001b[0;34m()\u001b[0m\n\u001b[1;32m      8\u001b[0m \u001b[0;34m\u001b[0m\u001b[0m\n\u001b[1;32m      9\u001b[0m \u001b[0mxV\u001b[0m\u001b[0;34m,\u001b[0m\u001b[0myV\u001b[0m \u001b[0;34m=\u001b[0m \u001b[0mgetValidationData\u001b[0m\u001b[0;34m(\u001b[0m\u001b[0;34m)\u001b[0m\u001b[0;34m\u001b[0m\u001b[0;34m\u001b[0m\u001b[0m\n\u001b[0;32m---> 10\u001b[0;31m \u001b[0mgenerate_confusion_matrix\u001b[0m\u001b[0;34m(\u001b[0m\u001b[0mxV\u001b[0m\u001b[0;34m,\u001b[0m\u001b[0myV\u001b[0m\u001b[0;34m)\u001b[0m\u001b[0;34m\u001b[0m\u001b[0;34m\u001b[0m\u001b[0m\n\u001b[0m",
            "\u001b[0;32m<ipython-input-5-3b90b2677841>\u001b[0m in \u001b[0;36mgenerate_confusion_matrix\u001b[0;34m(data, labels)\u001b[0m\n\u001b[1;32m     11\u001b[0m     \u001b[0mmat\u001b[0m \u001b[0;34m=\u001b[0m \u001b[0;34m[\u001b[0m \u001b[0;34m[\u001b[0m \u001b[0;36m0\u001b[0m \u001b[0;32mfor\u001b[0m \u001b[0mi\u001b[0m \u001b[0;32min\u001b[0m \u001b[0mrange\u001b[0m\u001b[0;34m(\u001b[0m\u001b[0;36m4\u001b[0m\u001b[0;34m)\u001b[0m \u001b[0;34m]\u001b[0m \u001b[0;32mfor\u001b[0m \u001b[0mj\u001b[0m \u001b[0;32min\u001b[0m \u001b[0mrange\u001b[0m\u001b[0;34m(\u001b[0m\u001b[0;36m4\u001b[0m\u001b[0;34m)\u001b[0m \u001b[0;34m]\u001b[0m\u001b[0;34m\u001b[0m\u001b[0;34m\u001b[0m\u001b[0m\n\u001b[1;32m     12\u001b[0m \u001b[0;34m\u001b[0m\u001b[0m\n\u001b[0;32m---> 13\u001b[0;31m     \u001b[0mpredictions\u001b[0m \u001b[0;34m=\u001b[0m \u001b[0mnp\u001b[0m\u001b[0;34m.\u001b[0m\u001b[0margmax\u001b[0m\u001b[0;34m(\u001b[0m \u001b[0mmodel\u001b[0m\u001b[0;34m.\u001b[0m\u001b[0mpredict\u001b[0m\u001b[0;34m(\u001b[0m \u001b[0mdata\u001b[0m \u001b[0;34m)\u001b[0m\u001b[0;34m,\u001b[0m \u001b[0maxis\u001b[0m \u001b[0;34m=\u001b[0m \u001b[0;36m1\u001b[0m \u001b[0;34m)\u001b[0m\u001b[0;34m\u001b[0m\u001b[0;34m\u001b[0m\u001b[0m\n\u001b[0m\u001b[1;32m     14\u001b[0m \u001b[0;34m\u001b[0m\u001b[0m\n\u001b[1;32m     15\u001b[0m     \u001b[0;32mfor\u001b[0m \u001b[0mi\u001b[0m \u001b[0;32min\u001b[0m \u001b[0mrange\u001b[0m\u001b[0;34m(\u001b[0m \u001b[0mdata\u001b[0m\u001b[0;34m.\u001b[0m\u001b[0mshape\u001b[0m\u001b[0;34m[\u001b[0m\u001b[0;36m0\u001b[0m\u001b[0;34m]\u001b[0m \u001b[0;34m)\u001b[0m\u001b[0;34m:\u001b[0m\u001b[0;34m\u001b[0m\u001b[0;34m\u001b[0m\u001b[0m\n",
            "\u001b[0;32m/usr/local/lib/python3.7/dist-packages/keras/utils/traceback_utils.py\u001b[0m in \u001b[0;36merror_handler\u001b[0;34m(*args, **kwargs)\u001b[0m\n\u001b[1;32m     65\u001b[0m     \u001b[0;32mexcept\u001b[0m \u001b[0mException\u001b[0m \u001b[0;32mas\u001b[0m \u001b[0me\u001b[0m\u001b[0;34m:\u001b[0m  \u001b[0;31m# pylint: disable=broad-except\u001b[0m\u001b[0;34m\u001b[0m\u001b[0;34m\u001b[0m\u001b[0m\n\u001b[1;32m     66\u001b[0m       \u001b[0mfiltered_tb\u001b[0m \u001b[0;34m=\u001b[0m \u001b[0m_process_traceback_frames\u001b[0m\u001b[0;34m(\u001b[0m\u001b[0me\u001b[0m\u001b[0;34m.\u001b[0m\u001b[0m__traceback__\u001b[0m\u001b[0;34m)\u001b[0m\u001b[0;34m\u001b[0m\u001b[0;34m\u001b[0m\u001b[0m\n\u001b[0;32m---> 67\u001b[0;31m       \u001b[0;32mraise\u001b[0m \u001b[0me\u001b[0m\u001b[0;34m.\u001b[0m\u001b[0mwith_traceback\u001b[0m\u001b[0;34m(\u001b[0m\u001b[0mfiltered_tb\u001b[0m\u001b[0;34m)\u001b[0m \u001b[0;32mfrom\u001b[0m \u001b[0;32mNone\u001b[0m\u001b[0;34m\u001b[0m\u001b[0;34m\u001b[0m\u001b[0m\n\u001b[0m\u001b[1;32m     68\u001b[0m     \u001b[0;32mfinally\u001b[0m\u001b[0;34m:\u001b[0m\u001b[0;34m\u001b[0m\u001b[0;34m\u001b[0m\u001b[0m\n\u001b[1;32m     69\u001b[0m       \u001b[0;32mdel\u001b[0m \u001b[0mfiltered_tb\u001b[0m\u001b[0;34m\u001b[0m\u001b[0;34m\u001b[0m\u001b[0m\n",
            "\u001b[0;32m/usr/local/lib/python3.7/dist-packages/tensorflow/python/framework/func_graph.py\u001b[0m in \u001b[0;36mautograph_handler\u001b[0;34m(*args, **kwargs)\u001b[0m\n\u001b[1;32m   1127\u001b[0m           \u001b[0;32mexcept\u001b[0m \u001b[0mException\u001b[0m \u001b[0;32mas\u001b[0m \u001b[0me\u001b[0m\u001b[0;34m:\u001b[0m  \u001b[0;31m# pylint:disable=broad-except\u001b[0m\u001b[0;34m\u001b[0m\u001b[0;34m\u001b[0m\u001b[0m\n\u001b[1;32m   1128\u001b[0m             \u001b[0;32mif\u001b[0m \u001b[0mhasattr\u001b[0m\u001b[0;34m(\u001b[0m\u001b[0me\u001b[0m\u001b[0;34m,\u001b[0m \u001b[0;34m\"ag_error_metadata\"\u001b[0m\u001b[0;34m)\u001b[0m\u001b[0;34m:\u001b[0m\u001b[0;34m\u001b[0m\u001b[0;34m\u001b[0m\u001b[0m\n\u001b[0;32m-> 1129\u001b[0;31m               \u001b[0;32mraise\u001b[0m \u001b[0me\u001b[0m\u001b[0;34m.\u001b[0m\u001b[0mag_error_metadata\u001b[0m\u001b[0;34m.\u001b[0m\u001b[0mto_exception\u001b[0m\u001b[0;34m(\u001b[0m\u001b[0me\u001b[0m\u001b[0;34m)\u001b[0m\u001b[0;34m\u001b[0m\u001b[0;34m\u001b[0m\u001b[0m\n\u001b[0m\u001b[1;32m   1130\u001b[0m             \u001b[0;32melse\u001b[0m\u001b[0;34m:\u001b[0m\u001b[0;34m\u001b[0m\u001b[0;34m\u001b[0m\u001b[0m\n\u001b[1;32m   1131\u001b[0m               \u001b[0;32mraise\u001b[0m\u001b[0;34m\u001b[0m\u001b[0;34m\u001b[0m\u001b[0m\n",
            "\u001b[0;31mValueError\u001b[0m: in user code:\n\n    File \"/usr/local/lib/python3.7/dist-packages/keras/engine/training.py\", line 1621, in predict_function  *\n        return step_function(self, iterator)\n    File \"/usr/local/lib/python3.7/dist-packages/keras/engine/training.py\", line 1611, in step_function  **\n        outputs = model.distribute_strategy.run(run_step, args=(data,))\n    File \"/usr/local/lib/python3.7/dist-packages/keras/engine/training.py\", line 1604, in run_step  **\n        outputs = model.predict_step(data)\n    File \"/usr/local/lib/python3.7/dist-packages/keras/engine/training.py\", line 1572, in predict_step\n        return self(x, training=False)\n    File \"/usr/local/lib/python3.7/dist-packages/keras/utils/traceback_utils.py\", line 67, in error_handler\n        raise e.with_traceback(filtered_tb) from None\n    File \"/usr/local/lib/python3.7/dist-packages/keras/engine/input_spec.py\", line 263, in assert_input_compatibility\n        raise ValueError(f'Input {input_index} of layer \"{layer_name}\" is '\n\n    ValueError: Input 0 of layer \"model_3\" is incompatible with the layer: expected shape=(None, 11, 11, 1), found shape=(None, 100, 100, 1)\n"
          ]
        }
      ]
    },
    {
      "cell_type": "code",
      "execution_count": null,
      "metadata": {
        "id": "H33gOM3MRCgN"
      },
      "outputs": [],
      "source": [
        ""
      ]
    },
    {
      "cell_type": "code",
      "source": [
        "from google.colab import drive\n",
        "drive.mount('/content/drive')"
      ],
      "metadata": {
        "colab": {
          "base_uri": "https://localhost:8080/"
        },
        "id": "EbHEuqnLUZ81",
        "outputId": "40e6dde6-e24d-4e9b-fa8b-20ed15442a9b"
      },
      "execution_count": 1,
      "outputs": [
        {
          "output_type": "stream",
          "name": "stdout",
          "text": [
            "Drive already mounted at /content/drive; to attempt to forcibly remount, call drive.mount(\"/content/drive\", force_remount=True).\n"
          ]
        }
      ]
    }
  ],
  "metadata": {
    "accelerator": "GPU",
    "colab": {
      "collapsed_sections": [],
      "name": "Project1CNN.ipynb",
      "provenance": []
    },
    "kernelspec": {
      "display_name": "Python 3",
      "name": "python3"
    },
    "language_info": {
      "name": "python"
    }
  },
  "nbformat": 4,
  "nbformat_minor": 0
}